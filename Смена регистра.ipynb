{
 "cells": [
  {
   "cell_type": "code",
   "execution_count": 1,
   "id": "fab46546",
   "metadata": {},
   "outputs": [
    {
     "name": "stdout",
     "output_type": "stream",
     "text": [
      "Общество с ограниченной ответственностью \"Восток\"\r\n",
      "\n",
      "ГБУ \"Азнакайлес\"\r\n",
      "\n",
      "ОАО \"Азнакаевское патп\"\r\n",
      "\n",
      "Общество с ограниченной ответственностью \"Азнакаевское пассажирское автотранспортное предприятие-1\"\r\n",
      "\n",
      "Общество с ограниченной ответственностью \"Алназ\"\r\n",
      "\n",
      "Общество с ограниченной ответственностью \"Магистраль\"\r\n",
      "\n",
      "Общество с ограниченной ответственностью \"Энтер\"\r\n",
      "\n",
      "Закрытое акционерное общество \"Азгеофизика\"\r\n",
      "\n",
      "Гиагинская РАйонная общественная организация адыгейской республиканской общественной организации охотников и рыболовов\r\n",
      "\n",
      "РО ПП \"Копрф\" В РА\r\n",
      "\n",
      "Адыгейская республиканская организация независимого профсоюза РАботников организаций торговли и услуг \"Перспектива\"\r\n",
      "\n",
      "Акционерное общество открытого типа \"Акционерно-коммерческий банк солид\"\r\n",
      "\n",
      "Первичная профсоюзная организация ОАО \"Авиалинии адыгеи\"\r\n",
      "\n",
      "Майкопская городская организация \"Дом адаптации репатриантов\"\r\n",
      "\n",
      "ОД \"Адыгэ хасэ - черкесский парламент\" РА\r\n",
      "\n",
      "Местная организация общероссийской общественной организации \"Молодежное единство\" Города майкопа\r\n",
      "\n",
      "Общественная организация города майкопа \"Добровольческий центр \"Беспокойные сердца\"\n"
     ]
    }
   ],
   "source": [
    "import codecs\n",
    "import re\n",
    "\n",
    "ABBREV = ['оао', 'зао' ]\n",
    "\n",
    "def applyRules(words):\n",
    "    pass\n",
    "\n",
    "def somePoc(phrase):\n",
    "    for abbr in ABBREV:\n",
    "          phrase.replace(abbr,abbr.upper())\n",
    "    return phrase\n",
    "\n",
    "def split(line):\n",
    "    pass\n",
    "\n",
    "def myProcessor(filename):\n",
    "    with codecs.open(filename, \"r\", \"utf-8\") as f:\n",
    "        for line in f:\n",
    "            f1 = line.lower()\n",
    "            words = split(f1)\n",
    "            newLine = applyRules(words)\n",
    "            \n",
    "            \n",
    "\n",
    "with codecs.open(\"/Users/d.kam/Desktop/ntcn.txt\", \"r\", \"utf-8\") as f:\n",
    "    for line in f:\n",
    "        f1 = line.lower()\n",
    "        punc_filter = re.compile('([\"]\\s*)')\n",
    "        split_with_punctuation = punc_filter.split(f1)\n",
    "        final = ''.join([i.capitalize() for i in split_with_punctuation])\n",
    "        f2 = final.replace('оао', 'ОАО').replace('зао', 'ЗАО').replace('гбу', 'ГБУ').replace('од ', 'ОД ').replace(' ра', ' РА').replace('ро ', 'РО ').replace('пп ', 'ПП ').replace('Оао', 'ОАО').replace('Зао', 'ЗАО').replace('Гбу', 'ГБУ').replace('Од ', 'ОД ').replace('Ро ', 'РО ').replace(' Ра', ' РА')\n",
    "        print(f2)"
   ]
  },
  {
   "cell_type": "code",
   "execution_count": null,
   "id": "f5848e18",
   "metadata": {},
   "outputs": [],
   "source": []
  },
  {
   "cell_type": "code",
   "execution_count": null,
   "id": "f3ee396c",
   "metadata": {},
   "outputs": [],
   "source": []
  }
 ],
 "metadata": {
  "kernelspec": {
   "display_name": "Python 3",
   "language": "python",
   "name": "python3"
  },
  "language_info": {
   "codemirror_mode": {
    "name": "ipython",
    "version": 3
   },
   "file_extension": ".py",
   "mimetype": "text/x-python",
   "name": "python",
   "nbconvert_exporter": "python",
   "pygments_lexer": "ipython3",
   "version": "3.8.8"
  }
 },
 "nbformat": 4,
 "nbformat_minor": 5
}
