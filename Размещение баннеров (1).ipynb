{
 "cells": [
  {
   "cell_type": "markdown",
   "id": "be320d56",
   "metadata": {},
   "source": [
    "Представим, что международное круизное агентство Carnival Cruise Line решило себя разрекламировать с помощью баннеров и обратилось для этого к вам. Чтобы протестировать, велика ли от таких баннеров польза, их будет размещено всего 20 штук по всему миру. Вам надо выбрать 20 таких локаций для размещения, чтобы польза была большой и агентство продолжило с вами сотрудничать.\n",
    "\n",
    "Агентство крупное, и у него есть несколько офисов по всему миру. Вблизи этих офисов оно и хочет разместить баннеры — легче договариваться и проверять результат. Также эти места должны быть популярны среди туристов.\n",
    "\n",
    "Для поиска оптимальных мест воспользуемся базой данных крупнейшей социальной сети, основанной на локациях — Foursquare.\n",
    "\n",
    "Часть открытых данных есть, например, на сайте archive.org:\n",
    "\n",
    "https://archive.org/details/201309_foursquare_dataset_umn\n",
    "\n",
    "Скачаем любым удобным образом архив fsq.zip с этой страницы.\n",
    "\n",
    "Нас будет интересовать файл checkins.dat.\n",
    "Для удобной работы с этим документом преобразуем его к формату csv, удалив строки, не содержащие координат.\n",
    "\n",
    "С помощью pandas построим DataFrame и убедимся, что все 396634 строки с координатами считаны успешно."
   ]
  },
  {
   "cell_type": "code",
   "execution_count": 2,
   "id": "14b11221",
   "metadata": {},
   "outputs": [],
   "source": [
    "import numpy as np\n",
    "import pandas as pd\n",
    "from sklearn.cluster import MeanShift"
   ]
  },
  {
   "cell_type": "code",
   "execution_count": 4,
   "id": "625b4d16",
   "metadata": {
    "scrolled": true
   },
   "outputs": [
    {
     "name": "stderr",
     "output_type": "stream",
     "text": [
      "C:\\Users\\d.kam\\Anaconda3\\lib\\site-packages\\IPython\\core\\interactiveshell.py:3165: DtypeWarning: Columns (0) have mixed types.Specify dtype option on import or set low_memory=False.\n",
      "  has_raised = await self.run_ast_nodes(code_ast.body, cell_name,\n"
     ]
    },
    {
     "name": "stdout",
     "output_type": "stream",
     "text": [
      "<class 'pandas.core.frame.DataFrame'>\n",
      "Int64Index: 396634 entries, 2 to 1021965\n",
      "Data columns (total 6 columns):\n",
      " #   Column            Non-Null Count   Dtype  \n",
      "---  ------            --------------   -----  \n",
      " 0   id                396634 non-null  object \n",
      " 1   user_id           396634 non-null  float64\n",
      " 2   venue_id          396634 non-null  float64\n",
      " 3   latitude          396634 non-null  float64\n",
      " 4   longitude         396634 non-null  float64\n",
      " 5   created_at        396634 non-null  object \n",
      "dtypes: float64(4), object(2)\n",
      "memory usage: 21.2+ MB\n",
      "None\n"
     ]
    },
    {
     "data": {
      "text/html": [
       "<div>\n",
       "<style scoped>\n",
       "    .dataframe tbody tr th:only-of-type {\n",
       "        vertical-align: middle;\n",
       "    }\n",
       "\n",
       "    .dataframe tbody tr th {\n",
       "        vertical-align: top;\n",
       "    }\n",
       "\n",
       "    .dataframe thead th {\n",
       "        text-align: right;\n",
       "    }\n",
       "</style>\n",
       "<table border=\"1\" class=\"dataframe\">\n",
       "  <thead>\n",
       "    <tr style=\"text-align: right;\">\n",
       "      <th></th>\n",
       "      <th>id</th>\n",
       "      <th>user_id</th>\n",
       "      <th>venue_id</th>\n",
       "      <th>latitude</th>\n",
       "      <th>longitude</th>\n",
       "      <th>created_at</th>\n",
       "    </tr>\n",
       "  </thead>\n",
       "  <tbody>\n",
       "    <tr>\n",
       "      <th>2</th>\n",
       "      <td>984222</td>\n",
       "      <td>15824.0</td>\n",
       "      <td>5222.0</td>\n",
       "      <td>38.895112</td>\n",
       "      <td>-77.036366</td>\n",
       "      <td>2012-04-21 17:43:47</td>\n",
       "    </tr>\n",
       "    <tr>\n",
       "      <th>4</th>\n",
       "      <td>984234</td>\n",
       "      <td>44652.0</td>\n",
       "      <td>5222.0</td>\n",
       "      <td>33.800745</td>\n",
       "      <td>-84.410520</td>\n",
       "      <td>2012-04-21 17:43:43</td>\n",
       "    </tr>\n",
       "    <tr>\n",
       "      <th>8</th>\n",
       "      <td>984291</td>\n",
       "      <td>105054.0</td>\n",
       "      <td>5222.0</td>\n",
       "      <td>45.523452</td>\n",
       "      <td>-122.676207</td>\n",
       "      <td>2012-04-21 17:39:22</td>\n",
       "    </tr>\n",
       "    <tr>\n",
       "      <th>10</th>\n",
       "      <td>984318</td>\n",
       "      <td>2146539.0</td>\n",
       "      <td>5222.0</td>\n",
       "      <td>40.764462</td>\n",
       "      <td>-111.904565</td>\n",
       "      <td>2012-04-21 17:35:46</td>\n",
       "    </tr>\n",
       "    <tr>\n",
       "      <th>11</th>\n",
       "      <td>984232</td>\n",
       "      <td>93870.0</td>\n",
       "      <td>380645.0</td>\n",
       "      <td>33.448377</td>\n",
       "      <td>-112.074037</td>\n",
       "      <td>2012-04-21 17:38:18</td>\n",
       "    </tr>\n",
       "  </tbody>\n",
       "</table>\n",
       "</div>"
      ],
      "text/plain": [
       "     id       user_id   venue_id   latitude        longitude       \\\n",
       "2   984222     15824.0     5222.0       38.895112      -77.036366   \n",
       "4   984234     44652.0     5222.0       33.800745      -84.410520   \n",
       "8   984291    105054.0     5222.0       45.523452     -122.676207   \n",
       "10  984318   2146539.0     5222.0       40.764462     -111.904565   \n",
       "11  984232     93870.0   380645.0       33.448377     -112.074037   \n",
       "\n",
       "       created_at        \n",
       "2   2012-04-21 17:43:47  \n",
       "4   2012-04-21 17:43:43  \n",
       "8   2012-04-21 17:39:22  \n",
       "10  2012-04-21 17:35:46  \n",
       "11  2012-04-21 17:38:18  "
      ]
     },
     "execution_count": 4,
     "metadata": {},
     "output_type": "execute_result"
    }
   ],
   "source": [
    "data = pd.read_csv('checkins.dat', sep='|', header=0, skipinitialspace=True)\n",
    "data.dropna(inplace=True)\n",
    "print(data.info())\n",
    "data.head()"
   ]
  },
  {
   "cell_type": "markdown",
   "id": "6826b566",
   "metadata": {},
   "source": [
    "Теперь необходимо кластеризовать данные координаты, чтобы выявить центры скоплений туристов. Поскольку баннеры имеют сравнительно небольшую площадь действия, нам нужен алгоритм, позволяющий ограничить размер кластера и не зависящий от количества кластеров.\n",
    "\n",
    "Будем использовать алгоритм MeanShift, bandwidth=0.1, что в переводе из градусов в метры колеблется примерно от 5 до 10 км в средних широтах."
   ]
  },
  {
   "cell_type": "markdown",
   "id": "852f0102",
   "metadata": {},
   "source": [
    "На 396634 строках кластеризация будет работать долго. Возьмем сабсет из первых 100 тысяч строк. Это компромисс между качеством и затраченным временем. Обучение алгоритма на всём датасете занимает около часа, а на 100 тыс. строк — примерно 2 минуты, однако этого достаточно для получения корректных результатов.\n"
   ]
  },
  {
   "cell_type": "code",
   "execution_count": 12,
   "id": "31815ac2",
   "metadata": {},
   "outputs": [
    {
     "name": "stdout",
     "output_type": "stream",
     "text": [
      "Shape: (100000, 2)\n",
      "[[38.8951118 -77.0363658]\n",
      " [33.800745 -84.41052]\n",
      " [45.5234515 -122.6762071]\n",
      " ...\n",
      " [29.7628844 -95.3830615]\n",
      " [32.802955 -96.769923]\n",
      " [37.7749295 -122.4194155]]\n"
     ]
    }
   ],
   "source": [
    "data_cl = data.values[0:100000, 3:5]\n",
    "print('Shape: ' + str(data_cl.shape))\n",
    "print(data_cl)"
   ]
  },
  {
   "cell_type": "code",
   "execution_count": 13,
   "id": "d9cde004",
   "metadata": {},
   "outputs": [
    {
     "data": {
      "text/plain": [
       "MeanShift(bandwidth=0.1)"
      ]
     },
     "execution_count": 13,
     "metadata": {},
     "output_type": "execute_result"
    }
   ],
   "source": [
    "cluster = MeanShift(bandwidth=0.1)\n",
    "cluster.fit(data_cl)"
   ]
  },
  {
   "cell_type": "markdown",
   "id": "bca4f986",
   "metadata": {},
   "source": [
    "Некоторые из получившихся кластеров содержат слишком мало точек — такие кластеры не интересны рекламодателям. Поэтому надо определить, какие из кластеров содержат, скажем, больше 15 элементов. Центры этих кластеров и являются оптимальными для размещения."
   ]
  },
  {
   "cell_type": "code",
   "execution_count": 58,
   "id": "e4db350c",
   "metadata": {},
   "outputs": [],
   "source": [
    "labels = cluster.labels_\n",
    "cluster_centers = cluster.cluster_centers_\n",
    "labels_unique, labels_counts = np.unique(labels, return_counts=True)"
   ]
  },
  {
   "cell_type": "code",
   "execution_count": 59,
   "id": "820e99e1",
   "metadata": {},
   "outputs": [
    {
     "name": "stdout",
     "output_type": "stream",
     "text": [
      "592\n"
     ]
    }
   ],
   "source": [
    "labels_unique_more = []\n",
    "for index, cnt in enumerate(labels_counts):\n",
    "    if cnt > 15:\n",
    "        labels_unique_more.append(labels_unique[index])\n",
    "print(len(labels_unique_more))"
   ]
  },
  {
   "cell_type": "code",
   "execution_count": 42,
   "id": "4994cb1a",
   "metadata": {},
   "outputs": [
    {
     "name": "stdout",
     "output_type": "stream",
     "text": [
      "[[  40.7177164   -73.99183542]\n",
      " [  33.44943805 -112.00213969]\n",
      " [  33.44638027 -111.90188756]\n",
      " ...\n",
      " [  41.61853175  -88.44556818]\n",
      " [  39.2494686   -77.1821271 ]\n",
      " [  38.65877915  -76.8856871 ]]\n"
     ]
    }
   ],
   "source": [
    "cluster_centers_new = np.empty( (len(labels_unique_more), 2) )\n",
    "for index, lbl in enumerate(labels_unique_more):\n",
    "    cluster_centers_new[index] = cluster_centers[lbl]\n",
    "\n",
    "print(cluster_centers_new)"
   ]
  },
  {
   "cell_type": "markdown",
   "id": "592564f2",
   "metadata": {},
   "source": [
    "Как мы помним, 20 баннеров надо разместить близ офисов компании. Найдем на Google Maps по запросу Carnival Cruise Line адреса всех офисов:\n",
    "\n",
    "33.751277, -118.188740 (Los Angeles)\n",
    "\n",
    "25.867736, -80.324116 (Miami)\n",
    "\n",
    "51.503016, -0.075479 (London)\n",
    "\n",
    "52.378894, 4.885084 (Amsterdam)\n",
    "\n",
    "39.366487, 117.036146 (Beijing)\n",
    "\n",
    "-33.868457, 151.205134 (Sydney)"
   ]
  },
  {
   "cell_type": "code",
   "execution_count": 43,
   "id": "caa910ec",
   "metadata": {},
   "outputs": [
    {
     "name": "stdout",
     "output_type": "stream",
     "text": [
      "    latitude   longitude\n",
      "0  33.751277 -118.188740\n",
      "1  25.867736  -80.324116\n",
      "2  51.503016   -0.075479\n",
      "3  52.378894    4.885084\n",
      "4  39.366487  117.036146\n",
      "5 -33.868457  151.205134\n"
     ]
    }
   ],
   "source": [
    "offices = pd.read_csv('Offices.csv', skipinitialspace=True)\n",
    "print(offices)"
   ]
  },
  {
   "cell_type": "markdown",
   "id": "59783d58",
   "metadata": {},
   "source": [
    "Осталось определить 20 ближайших к ним центров кластеров. Т.е. посчитать дистанцию до ближайшего офиса для каждой точки и выбрать 20 с наименьшим значением.\n",
    "\n",
    "Примечание: при подсчете расстояний и в кластеризации можно пренебречь тем, что Земля круглая, так как в точках, расположенных близко друг к другу погрешность мала, а в остальных точках значение достаточно велико."
   ]
  },
  {
   "cell_type": "code",
   "execution_count": 44,
   "id": "33b8f134",
   "metadata": {},
   "outputs": [],
   "source": [
    "def distance(x, y):\n",
    "    return np.sqrt(np.sum((x - y)**2))"
   ]
  },
  {
   "cell_type": "code",
   "execution_count": 55,
   "id": "78a31115",
   "metadata": {},
   "outputs": [],
   "source": [
    "distance_office = np.empty(cluster_centers_new.shape[0])\n",
    "for i, item in enumerate(cluster_centers_new):\n",
    "    min_dist = distance(item, offices.loc[0])\n",
    "    for j in range(len(offices)):\n",
    "        dist = distance(item, offices.loc[j])\n",
    "        if dist < min_dist:\n",
    "            min_dist = dist\n",
    "    distance_office[i] = min_dist"
   ]
  },
  {
   "cell_type": "code",
   "execution_count": 56,
   "id": "006cdf88",
   "metadata": {},
   "outputs": [],
   "source": [
    "dist_sorted_indices = np.argsort(distance_office)\n",
    "distance_office_sorted = distance_office[dist_sorted_indices]\n",
    "cluster_centers_new_sorted = cluster_centers_new[dist_sorted_indices]"
   ]
  },
  {
   "cell_type": "code",
   "execution_count": 57,
   "id": "b5de48da",
   "metadata": {},
   "outputs": [
    {
     "name": "stdout",
     "output_type": "stream",
     "text": [
      "0.007834758163107856\n",
      "[-33.86063043 151.20477593]\n"
     ]
    }
   ],
   "source": [
    "print(distance_office_sorted[0])\n",
    "print(str(cluster_centers_new_sorted[0]))"
   ]
  },
  {
   "cell_type": "code",
   "execution_count": null,
   "id": "9bc830ce",
   "metadata": {},
   "outputs": [],
   "source": []
  }
 ],
 "metadata": {
  "kernelspec": {
   "display_name": "Python 3",
   "language": "python",
   "name": "python3"
  },
  "language_info": {
   "codemirror_mode": {
    "name": "ipython",
    "version": 3
   },
   "file_extension": ".py",
   "mimetype": "text/x-python",
   "name": "python",
   "nbconvert_exporter": "python",
   "pygments_lexer": "ipython3",
   "version": "3.8.8"
  }
 },
 "nbformat": 4,
 "nbformat_minor": 5
}
